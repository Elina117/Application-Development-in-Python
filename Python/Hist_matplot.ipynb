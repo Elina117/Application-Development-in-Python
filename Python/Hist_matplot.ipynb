{
 "cells": [
  {
   "cell_type": "code",
   "execution_count": 63,
   "id": "101f59c0",
   "metadata": {
    "ExecuteTime": {
     "end_time": "2022-02-02T18:56:02.066655Z",
     "start_time": "2022-02-02T18:55:59.040376Z"
    }
   },
   "outputs": [
    {
     "data": {
      "image/png": "[encoded data removed]",
      "text/plain": [
       "<Figure size 432x288 with 1 Axes>"
      ]
     },
     "metadata": {
      "needs_background": "light"
     },
     "output_type": "display_data"
    }
   ],
   "source": [
    "import numpy as np\n",
    "from scipy.stats import ttest_ind, mannwhitneyu\n",
    "\n",
    "res, res1 = [], []\n",
    "for i in range(int(1e4)):\n",
    "    # сгенерируем два массива из нормального распределения\n",
    "    sample_1 = np.random.normal(0.3, 3, size=int(1e3))\n",
    "    sample_2 = np.random.normal(0, 3, size=int(1e3))\n",
    "    # тест на гипотезу: а равны ли мат.ожидания? (0.3 против 0)\n",
    "    stat, p = ttest_ind(sample_1, sample_2)\n",
    "    #stat, p = mannwhitneyu(sample_1, sample_2)\n",
    "    res.append(stat)\n",
    "    res1.append(p)\n",
    "# рисуем графики на p-value (в модуле статистики узнаете, что это такое)\n",
    "_ = plt.hist(res1, bins=100)"
   ]
  },
  {
   "cell_type": "code",
   "execution_count": 64,
   "id": "b46fe7f5",
   "metadata": {
    "ExecuteTime": {
     "end_time": "2022-02-02T18:56:02.713247Z",
     "start_time": "2022-02-02T18:56:02.452962Z"
    }
   },
   "outputs": [
    {
     "data": {
      "image/png": "[encoded data removed]",
      "text/plain": [
       "<Figure size 432x288 with 1 Axes>"
      ]
     },
     "metadata": {
      "needs_background": "light"
     },
     "output_type": "display_data"
    }
   ],
   "source": [
    "import matplotlib.pyplot as plt\n",
    "# рисуем получающуюся статистику\n",
    "_ = plt.hist(res, bins=100)"
   ]
  }
 ],
 "metadata": {
  "kernelspec": {
   "display_name": "Python 3",
   "language": "python",
   "name": "python3"
  },
  "language_info": {
   "codemirror_mode": {
    "name": "ipython",
    "version": 3
   },
   "file_extension": ".py",
   "mimetype": "text/x-python",
   "name": "python",
   "nbconvert_exporter": "python",
   "pygments_lexer": "ipython3",
   "version": "3.9.5"
  },
  "toc": {
   "base_numbering": 1,
   "nav_menu": {},
   "number_sections": true,
   "sideBar": true,
   "skip_h1_title": false,
   "title_cell": "Table of Contents",
   "title_sidebar": "Contents",
   "toc_cell": false,
   "toc_position": {},
   "toc_section_display": true,
   "toc_window_display": false
  },
  "varInspector": {
   "cols": {
    "lenName": 16,
    "lenType": 16,
    "lenVar": 40
   },
   "kernels_config": {
    "python": {
     "delete_cmd_postfix": "",
     "delete_cmd_prefix": "del ",
     "library": "var_list.py",
     "varRefreshCmd": "print(var_dic_list())"
    },
    "r": {
     "delete_cmd_postfix": ") ",
     "delete_cmd_prefix": "rm(",
     "library": "var_list.r",
     "varRefreshCmd": "cat(var_dic_list()) "
    }
   },
   "types_to_exclude": [
    "module",
    "function",
    "builtin_function_or_method",
    "instance",
    "_Feature"
   ],
   "window_display": false
  }
 },
 "nbformat": 4,
 "nbformat_minor": 5
}
